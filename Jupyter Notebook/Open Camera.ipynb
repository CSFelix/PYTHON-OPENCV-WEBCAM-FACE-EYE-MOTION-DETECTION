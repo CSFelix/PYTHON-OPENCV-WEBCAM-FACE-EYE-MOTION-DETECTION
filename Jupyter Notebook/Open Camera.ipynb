{
 "cells": [
  {
   "cell_type": "markdown",
   "metadata": {},
   "source": [
    "<h1 style=\"color: red;\">How to Open Camera Using OpenCV</h1>"
   ]
  },
  {
   "cell_type": "code",
   "execution_count": 1,
   "metadata": {},
   "outputs": [],
   "source": [
    "import cv2"
   ]
  },
  {
   "cell_type": "code",
   "execution_count": 2,
   "metadata": {},
   "outputs": [],
   "source": [
    "# Create video object\n",
    "video = cv2.VideoCapture(0)\n",
    "\n",
    "while True:\n",
    "    try:\n",
    "        # Capture each frame of the video\n",
    "        ret, frame = video.read()\n",
    "\n",
    "        # Create the color's channels\n",
    "        #grayscale_channel = cv2.cvtColor(frame, cv2.COLOR_BGR2RGB)\n",
    "        colorfull_channel = frame\n",
    "\n",
    "        # Open the cam\n",
    "        #cv2.imshow('WebCam', grayscale_channel) # grayscale video (256 levels)\n",
    "        cv2.imshow('Webcam', colorfull_channel) # colored video ([256, 256, 256] levels)\n",
    "\n",
    "        # Press 'q' (quit '-') key to close the cam\n",
    "        if cv2.waitKey(1) & 0xFF == ord('q'): break\n",
    "    \n",
    "    except Exception as e:\n",
    "        print(str(e))\n",
    "        break\n",
    "\n",
    "# Turn off the cam and close all cv2's windows\n",
    "video.release()\n",
    "cv2.destroyAllWindows()"
   ]
  },
  {
   "cell_type": "code",
   "execution_count": null,
   "metadata": {},
   "outputs": [],
   "source": []
  }
 ],
 "metadata": {
  "kernelspec": {
   "display_name": "Python 3",
   "language": "python",
   "name": "python3"
  },
  "language_info": {
   "codemirror_mode": {
    "name": "ipython",
    "version": 3
   },
   "file_extension": ".py",
   "mimetype": "text/x-python",
   "name": "python",
   "nbconvert_exporter": "python",
   "pygments_lexer": "ipython3",
   "version": "3.7.3"
  }
 },
 "nbformat": 4,
 "nbformat_minor": 2
}
