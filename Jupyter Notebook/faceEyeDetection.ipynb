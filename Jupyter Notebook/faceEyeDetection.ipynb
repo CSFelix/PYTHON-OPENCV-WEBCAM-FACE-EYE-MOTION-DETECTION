{
 "cells": [
  {
   "cell_type": "markdown",
   "metadata": {},
   "source": [
    "<h1 style=\"color: red;\">Face and Eye Detection</h1>"
   ]
  },
  {
   "cell_type": "code",
   "execution_count": 1,
   "metadata": {},
   "outputs": [],
   "source": [
    "import cv2\n",
    "import os"
   ]
  },
  {
   "cell_type": "code",
   "execution_count": 4,
   "metadata": {},
   "outputs": [],
   "source": [
    "# Load and create faceCascade Classifier\n",
    "facePath = os.path.dirname(cv2.__file__)+\"/data/haarcascade_frontalface_default.xml\"\n",
    "faceCascade = cv2.CascadeClassifier(facePath)\n",
    "\n",
    "eyePath = os.path.dirname(cv2.__file__)+\"/data/haarcascade_eye.xml\"\n",
    "eyeCascade = cv2.CascadeClassifier(eyePath)\n",
    "\n",
    "out = cv2.VideoWriter('faceEyeDetection.mp4', -1, 20.0, (640,480))\n",
    "video = cv2.VideoCapture(0)\n",
    "\n",
    "while True:\n",
    "    try:\n",
    "        ret, frames = video.read()\n",
    "        gray = cv2.cvtColor(frames, cv2.COLOR_BGR2GRAY)\n",
    "    \n",
    "        # Face Detection\n",
    "        faces = faceCascade.detectMultiScale(gray)\n",
    "        for (x, y, w, h) in faces: cv2.rectangle(frames, (x, y), (x + w, y + h), (255, 255, 0), 2)\n",
    "    \n",
    "        # Eye Detection\n",
    "        eyes = eyeCascade.detectMultiScale(gray)\n",
    "        for (x, y, w, h) in eyes: cv2.rectangle(frames, (x, y), (x + w, y + h), (0, 165, 255), 2)\n",
    "        \n",
    "        # Save and Show the Video\n",
    "        out.write(frames)\n",
    "        cv2.imshow('WebCam', frames)\n",
    "    \n",
    "        if cv2.waitKey(1) & 0xFF == ord('q'): break\n",
    "        \n",
    "    except Exception as e:\n",
    "        print(str(e))\n",
    "        break\n",
    "\n",
    "video.release()\n",
    "out.release()\n",
    "cv2.destroyAllWindows()"
   ]
  }
 ],
 "metadata": {
  "kernelspec": {
   "display_name": "Python 3",
   "language": "python",
   "name": "python3"
  },
  "language_info": {
   "codemirror_mode": {
    "name": "ipython",
    "version": 3
   },
   "file_extension": ".py",
   "mimetype": "text/x-python",
   "name": "python",
   "nbconvert_exporter": "python",
   "pygments_lexer": "ipython3",
   "version": "3.7.3"
  }
 },
 "nbformat": 4,
 "nbformat_minor": 2
}
