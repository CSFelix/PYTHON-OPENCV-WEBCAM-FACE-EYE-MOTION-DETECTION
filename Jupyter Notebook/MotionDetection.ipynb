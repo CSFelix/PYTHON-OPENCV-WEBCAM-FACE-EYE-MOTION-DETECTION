{
 "cells": [
  {
   "cell_type": "markdown",
   "metadata": {},
   "source": [
    "<h1 style=\"color: red;\">Motion Detection</h1>"
   ]
  },
  {
   "cell_type": "code",
   "execution_count": 4,
   "metadata": {},
   "outputs": [],
   "source": [
    "import cv2\n",
    "import time\n",
    "import pandas\n",
    "from datetime import datetime"
   ]
  },
  {
   "cell_type": "code",
   "execution_count": 5,
   "metadata": {},
   "outputs": [],
   "source": [
    "static_back = None # static back to color\n",
    "motion_list = [None, None]\n",
    "time_list = []\n",
    "df = df = pandas.DataFrame(columns = ['Start Motion', 'End Motion'])  # this dataframe will turn into a csv file later"
   ]
  },
  {
   "cell_type": "code",
   "execution_count": 6,
   "metadata": {
    "scrolled": true
   },
   "outputs": [],
   "source": [
    "video = cv2.VideoCapture(0)\n",
    "\n",
    "while True:\n",
    "    # Start the Video and motion's counter #\n",
    "    ret, frames = video.read()\n",
    "    motion = 0\n",
    "    \n",
    "    ######################################################################################################\n",
    "    \n",
    "    # Color Scales #\n",
    "    gray = cv2.cvtColor(frames, cv2.COLOR_BGR2GRAY)\n",
    "    gray = cv2.GaussianBlur(gray, (21, 21), 0)\n",
    "    \n",
    "    # This peace of code is executed just once at the start\n",
    "    # where the static back is assign with gray scale color\n",
    "    if static_back is None: \n",
    "        static_back = gray\n",
    "        continue\n",
    "    \n",
    "    differencial_frame = cv2.absdiff(static_back, gray)\n",
    "    threshold_frame = cv2.threshold(differencial_frame, 30, 255, cv2.THRESH_BINARY)[1]\n",
    "    threshold_frame = cv2.dilate(threshold_frame, None, iterations = 2)\n",
    "    \n",
    "    ######################################################################################################\n",
    "    \n",
    "    # Find motions and its contours #\n",
    "    cnts, _ = cv2.findContours(threshold_frame.copy(),\n",
    "                               cv2.RETR_EXTERNAL, cv2.CHAIN_APPROX_SIMPLE)\n",
    "    \n",
    "    for contour in cnts:\n",
    "        if cv2.contourArea(contour) < 10000: continue\n",
    "        else: \n",
    "            motion = 1\n",
    "            \n",
    "            (x, y, w, h) = cv2.boundingRect(contour)\n",
    "            cv2.rectangle(frames, (x, y), (x + w, y + h), (0, 255, 255), 3)\n",
    "            \n",
    "    ######################################################################################################\n",
    "    \n",
    "    # Append list of motions for each new motion detected\n",
    "    # and set the start\\end time\n",
    "    motion_list.append(motion)\n",
    "    motion_list = motion_list[-2:]\n",
    "    \n",
    "    if motion_list[-1] == 1 and motion_list[-2] == 0: time_list.append(datetime.now()) # start motion's time\n",
    "    if motion_list[-1] == 0 and motion_list[-2] == 1: time_list.append(datetime.now()) # end motion's time\n",
    "        \n",
    "    ######################################################################################################\n",
    "        \n",
    "    # Show the Video in four windows #\n",
    "    cv2.imshow('GrayScale Frame', gray)\n",
    "    cv2.imshow('Difference Frame', differencial_frame)\n",
    "    cv2.imshow('Threshold Frame', threshold_frame)\n",
    "    cv2.imshow('ColorFull Frame', frames) # detected motions' rectangles are shown here\n",
    "    \n",
    "    ######################################################################################################\n",
    "    \n",
    "    # Closing the Windows: press 'q' key #\n",
    "    if cv2.waitKey(1) & 0xFF == ord('q'): \n",
    "        if motion == 1: time_list.append(datetime.now()) # catch the last movement\n",
    "        break\n",
    "    \n",
    "# Put list of motions into the dataframe\n",
    "# and save it as csv file\n",
    "for i in range(0, len(time_list), 2):\n",
    "    df = df.append({\"Start Motion\": time_list[i], \"End Motion\": time_list[i + 1]}, ignore_index = True)\n",
    "    \n",
    "df.to_csv(\"Time_of_Motions.csv\")     \n",
    "\n",
    "# Turn of cam and Close cv2's windows\n",
    "video.release()\n",
    "cv2.destroyAllWindows()"
   ]
  }
 ],
 "metadata": {
  "kernelspec": {
   "display_name": "Python 3",
   "language": "python",
   "name": "python3"
  },
  "language_info": {
   "codemirror_mode": {
    "name": "ipython",
    "version": 3
   },
   "file_extension": ".py",
   "mimetype": "text/x-python",
   "name": "python",
   "nbconvert_exporter": "python",
   "pygments_lexer": "ipython3",
   "version": "3.7.3"
  }
 },
 "nbformat": 4,
 "nbformat_minor": 2
}
